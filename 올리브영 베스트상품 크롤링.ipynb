{
 "cells": [
  {
   "cell_type": "code",
   "execution_count": 106,
   "metadata": {},
   "outputs": [
    {
     "name": "stdout",
     "output_type": "stream",
     "text": [
      "Image Crawling is done\n",
      "Data saved to crawled_data.xlsx\n"
     ]
    }
   ],
   "source": [
    "import requests\n",
    "from urllib import request\n",
    "from bs4 import BeautifulSoup\n",
    "import pandas as pd\n",
    "\n",
    "crawl_num = 100  # 크롤링 갯수\n",
    "best_url = 'https://www.oliveyoung.co.kr/store/main/getBestList.do'\n",
    "\n",
    "res = requests.get(best_url)\n",
    "\n",
    "soup = BeautifulSoup(res.content, 'html.parser')\n",
    "\n",
    "count = 0\n",
    "data = []\n",
    "\n",
    "for i in range(1, 26):\n",
    "    ul_selector = f'#Container > div.best-area > div.TabsConts.on > ul:nth-child({i})'\n",
    "    ul = soup.select_one(ul_selector)\n",
    "    \n",
    "    li_items = ul.find_all('li')\n",
    "    for li in li_items:\n",
    "        count += 1\n",
    "        title = li.select_one('.tx_name').getText()\n",
    "        price = li.select_one('.tx_num').getText()\n",
    "        img_tag = li.select_one('div > a > img')\n",
    "        img_url = img_tag['src']\n",
    "        \n",
    "        filename = f'./img/img_{count}.jpg'\n",
    "        request.urlretrieve(img_url, filename)\n",
    "        data.append({'이름': title, '이미지': img_url,'가격': price})\n",
    "        if count == crawl_num:\n",
    "            break\n",
    "    \n",
    "    if count == crawl_num:\n",
    "        break\n",
    "\n",
    "print(\"Image Crawling is done\")\n",
    "       \n",
    "\n",
    "df = pd.DataFrame(data)\n",
    "\n",
    "# 데이터프레임을 엑셀로 내보내기\n",
    "excel_filename = 'crawled_data.xlsx'\n",
    "df.to_excel(excel_filename, index=False)\n",
    "\n",
    "print(f\"Data saved to {excel_filename}\")"
   ]
  }
 ],
 "metadata": {
  "kernelspec": {
   "display_name": "Python 3.9.13 64-bit",
   "language": "python",
   "name": "python3"
  },
  "language_info": {
   "codemirror_mode": {
    "name": "ipython",
    "version": 3
   },
   "file_extension": ".py",
   "mimetype": "text/x-python",
   "name": "python",
   "nbconvert_exporter": "python",
   "pygments_lexer": "ipython3",
   "version": "3.8.5"
  },
  "toc": {
   "base_numbering": 1,
   "nav_menu": {},
   "number_sections": true,
   "sideBar": true,
   "skip_h1_title": false,
   "title_cell": "Table of Contents",
   "title_sidebar": "Contents",
   "toc_cell": false,
   "toc_position": {
    "height": "calc(100% - 180px)",
    "left": "10px",
    "top": "150px",
    "width": "284.2px"
   },
   "toc_section_display": true,
   "toc_window_display": false
  },
  "varInspector": {
   "cols": {
    "lenName": 16,
    "lenType": 16,
    "lenVar": 40
   },
   "kernels_config": {
    "python": {
     "delete_cmd_postfix": "",
     "delete_cmd_prefix": "del ",
     "library": "var_list.py",
     "varRefreshCmd": "print(var_dic_list())"
    },
    "r": {
     "delete_cmd_postfix": ") ",
     "delete_cmd_prefix": "rm(",
     "library": "var_list.r",
     "varRefreshCmd": "cat(var_dic_list()) "
    }
   },
   "position": {
    "height": "496.4px",
    "left": "1173px",
    "right": "20px",
    "top": "146px",
    "width": "350px"
   },
   "types_to_exclude": [
    "module",
    "function",
    "builtin_function_or_method",
    "instance",
    "_Feature"
   ],
   "window_display": false
  },
  "vscode": {
   "interpreter": {
    "hash": "f6f6af92342e95da19c60530c4a8d649d6818e2b0fb1b93d31b29113cdc90935"
   }
  }
 },
 "nbformat": 4,
 "nbformat_minor": 4
}
